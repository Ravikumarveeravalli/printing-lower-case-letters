{
 "cells": [
  {
   "cell_type": "code",
   "execution_count": 2,
   "id": "9321b3da",
   "metadata": {},
   "outputs": [
    {
     "name": "stdout",
     "output_type": "stream",
     "text": [
      " *** \n",
      "*   *\n",
      "*   *\n",
      "*   *\n",
      " *** **\n"
     ]
    }
   ],
   "source": [
    "# program to printing \"a\"\n",
    "a=1\n",
    "while a<=5:\n",
    "    if a==1:\n",
    "        print(\" *** \")\n",
    "    if a==2:\n",
    "        print(\"*   *\")\n",
    "    if a==3:\n",
    "        print(\"*   *\")\n",
    "    if a==4:\n",
    "        print(\"*   *\")\n",
    "    if a==5:\n",
    "        print(\" *** **\")\n",
    "    a=a+1"
   ]
  },
  {
   "cell_type": "code",
   "execution_count": 3,
   "id": "e98d4a66",
   "metadata": {},
   "outputs": [
    {
     "name": "stdout",
     "output_type": "stream",
     "text": [
      "*    \n",
      "*    \n",
      "****\n",
      "*   *\n",
      "****\n"
     ]
    }
   ],
   "source": [
    "# program to printing \"b\"\n",
    "a=1\n",
    "while a<=5:\n",
    "    if a==1:\n",
    "        print(\"*    \")\n",
    "    if a==2:\n",
    "        print(\"*    \")\n",
    "    if a==3:\n",
    "        print(\"****\")\n",
    "    if a==4:\n",
    "        print(\"*   *\")\n",
    "    if a==5:\n",
    "        print(\"****\")\n",
    "    a=a+1"
   ]
  },
  {
   "cell_type": "code",
   "execution_count": 4,
   "id": "3f24a1f0",
   "metadata": {},
   "outputs": [
    {
     "name": "stdout",
     "output_type": "stream",
     "text": [
      " ****\n",
      "*    \n",
      "*    \n",
      "*    \n",
      " *****\n"
     ]
    }
   ],
   "source": [
    "# program to printing \"c\"\n",
    "a=1\n",
    "while a<=5:\n",
    "    if a==1:\n",
    "        print(\" ****\")\n",
    "    if a==2:\n",
    "        print(\"*    \")\n",
    "    if a==3:\n",
    "        print(\"*    \")\n",
    "    if a==4:\n",
    "        print(\"*    \")\n",
    "    if a==5:\n",
    "        print(\" *****\")\n",
    "    a=a+1"
   ]
  },
  {
   "cell_type": "code",
   "execution_count": 5,
   "id": "dc1cf39c",
   "metadata": {},
   "outputs": [
    {
     "name": "stdout",
     "output_type": "stream",
     "text": [
      "    *\n",
      "    *\n",
      " ****\n",
      "*   *\n",
      " ****\n"
     ]
    }
   ],
   "source": [
    "# program to printing \"d\"\n",
    "a=1\n",
    "while a<=5:\n",
    "    if a==1:\n",
    "        print(\"    *\")\n",
    "    if a==2:\n",
    "        print(\"    *\")\n",
    "    if a==3:\n",
    "        print(\" ****\")\n",
    "    if a==4:\n",
    "        print(\"*   *\")\n",
    "    if a==5:\n",
    "        print(\" ****\")\n",
    "    a=a+1"
   ]
  },
  {
   "cell_type": "code",
   "execution_count": 6,
   "id": "beac5695",
   "metadata": {},
   "outputs": [
    {
     "name": "stdout",
     "output_type": "stream",
     "text": [
      " *** \n",
      "*   *\n",
      "****\n",
      "*    \n",
      " ****\n"
     ]
    }
   ],
   "source": [
    "# program to printing \"e\"\n",
    "a=1\n",
    "while a<=5:\n",
    "    if a==1:\n",
    "        print(\" *** \")\n",
    "    if a==2:\n",
    "        print(\"*   *\")\n",
    "    if a==3:\n",
    "        print(\"****\")\n",
    "    if a==4:\n",
    "        print(\"*    \")\n",
    "    if a==5:\n",
    "        print(\" ****\")\n",
    "    a=a+1"
   ]
  },
  {
   "cell_type": "code",
   "execution_count": 10,
   "id": "fbf2f1d3",
   "metadata": {},
   "outputs": [
    {
     "name": "stdout",
     "output_type": "stream",
     "text": [
      "   ***\n",
      "  *  \n",
      "*****\n",
      "  *  \n",
      "**  \n"
     ]
    }
   ],
   "source": [
    "# program to printing \"f\"\n",
    "a=1\n",
    "while a<=5:\n",
    "    if a==1:\n",
    "        print(\"   ***\")\n",
    "    if a==2:\n",
    "        print(\"  *  \")\n",
    "    if a==3:\n",
    "        print(\"*****\")\n",
    "    if a==4:\n",
    "        print(\"  *  \")\n",
    "    if a==5:\n",
    "        print(\"**  \")\n",
    "    a=a+1"
   ]
  },
  {
   "cell_type": "code",
   "execution_count": 12,
   "id": "803393e8",
   "metadata": {},
   "outputs": [
    {
     "name": "stdout",
     "output_type": "stream",
     "text": [
      " *** \n",
      "*   *\n",
      " ****\n",
      "    *\n",
      "****\n"
     ]
    }
   ],
   "source": [
    "# program to printing \"g\"\n",
    "a=1\n",
    "while a<=5:\n",
    "    if a==1:\n",
    "        print(\" *** \")\n",
    "    if a==2:\n",
    "        print(\"*   *\")\n",
    "    if a==3:\n",
    "        print(\" ****\")\n",
    "    if a==4:\n",
    "        print(\"    *\")\n",
    "    if a==5:\n",
    "        print(\"****\")\n",
    "    a=a+1"
   ]
  },
  {
   "cell_type": "code",
   "execution_count": 14,
   "id": "a39b8068",
   "metadata": {},
   "outputs": [
    {
     "name": "stdout",
     "output_type": "stream",
     "text": [
      "*    \n",
      "*    \n",
      "**** \n",
      "*   *\n",
      "*   *\n"
     ]
    }
   ],
   "source": [
    "# program to printing \"h\"\n",
    "a=1\n",
    "while a<=5:\n",
    "    if a==1:\n",
    "        print(\"*    \")\n",
    "    if a==2:\n",
    "        print(\"*    \")\n",
    "    if a==3:\n",
    "        print(\"**** \")\n",
    "    if a==4:\n",
    "        print(\"*   *\")\n",
    "    if a==5:\n",
    "        print(\"*   *\")\n",
    "    a=a+1"
   ]
  },
  {
   "cell_type": "code",
   "execution_count": 15,
   "id": "735ed68f",
   "metadata": {},
   "outputs": [
    {
     "name": "stdout",
     "output_type": "stream",
     "text": [
      "  o  \n",
      " **   \n",
      "  *  \n",
      "  *  \n",
      "   **\n"
     ]
    }
   ],
   "source": [
    "# program to printing \"i\"\n",
    "a=1\n",
    "while a<=5:\n",
    "    if a==1:\n",
    "        print(\"  o  \")\n",
    "    if a==2:\n",
    "        print(\" **   \")\n",
    "    if a==3:\n",
    "        print(\"  *  \")\n",
    "    if a==4:\n",
    "        print(\"  *  \")\n",
    "    if a==5:\n",
    "        print(\"   **\")\n",
    "    a=a+1"
   ]
  },
  {
   "cell_type": "code",
   "execution_count": 16,
   "id": "56ec5a38",
   "metadata": {},
   "outputs": [
    {
     "name": "stdout",
     "output_type": "stream",
     "text": [
      "  O  \n",
      " **  \n",
      "  *  \n",
      "  *  \n",
      "**   \n"
     ]
    }
   ],
   "source": [
    "# program to printing \"j\"\n",
    "a=1\n",
    "while a<=5:\n",
    "    if a==1:\n",
    "        print(\"  O  \")\n",
    "    if a==2:\n",
    "        print(\" **  \")\n",
    "    if a==3:\n",
    "        print(\"  *  \")\n",
    "    if a==4:\n",
    "        print(\"  *  \")\n",
    "    if a==5:\n",
    "        print(\"**   \")\n",
    "    a=a+1"
   ]
  },
  {
   "cell_type": "code",
   "execution_count": 25,
   "id": "23a7302e",
   "metadata": {},
   "outputs": [
    {
     "name": "stdout",
     "output_type": "stream",
     "text": [
      "*    \n",
      "*   *\n",
      "* *   \n",
      "**   \n",
      "*  *  \n",
      "*    *\n"
     ]
    }
   ],
   "source": [
    "# program to printing \"k\"\n",
    "a=1\n",
    "while a<=6:\n",
    "    if a==1:\n",
    "        print(\"*    \")\n",
    "    if a==2:\n",
    "        print(\"*   *\")\n",
    "    if a==3:\n",
    "        print(\"* *   \")\n",
    "    if a==4:\n",
    "        print(\"**   \")\n",
    "    if a==5:\n",
    "        print(\"*  *  \")\n",
    "    if a==6:\n",
    "        print(\"*    *\")\n",
    "    a=a+1"
   ]
  },
  {
   "cell_type": "code",
   "execution_count": 28,
   "id": "d601668d",
   "metadata": {},
   "outputs": [
    {
     "name": "stdout",
     "output_type": "stream",
     "text": [
      "*    \n",
      "*    \n",
      "*    \n",
      "*   \n",
      "*\n"
     ]
    }
   ],
   "source": [
    "# program to printing \"l\"\n",
    "a=1\n",
    "while a<=5:\n",
    "    if a==1:\n",
    "        print(\"*    \")\n",
    "    if a==2:\n",
    "        print(\"*    \")\n",
    "    if a==3:\n",
    "        print(\"*    \")\n",
    "    if a==4:\n",
    "        print(\"*   \")\n",
    "    if a==5:\n",
    "        print(\"*\")\n",
    "    a=a+1"
   ]
  },
  {
   "cell_type": "code",
   "execution_count": 34,
   "id": "83f8bc01",
   "metadata": {},
   "outputs": [
    {
     "name": "stdout",
     "output_type": "stream",
     "text": [
      "*\n",
      "* *   *\n",
      "*   *  *\n",
      "*   *  *\n",
      "*      *\n"
     ]
    }
   ],
   "source": [
    "# program to printing \"m\"\n",
    "a=1\n",
    "while a<=5:\n",
    "    if a==1:\n",
    "        print(\"*\")\n",
    "    if a==2:\n",
    "        print(\"* *   *\")\n",
    "    if a==3:\n",
    "        print(\"*   *  *\")\n",
    "    if a==4:\n",
    "        print(\"*   *  *\")\n",
    "    if a==5:\n",
    "        print(\"*      *\")\n",
    "    a=a+1"
   ]
  },
  {
   "cell_type": "code",
   "execution_count": 35,
   "id": "f0c1a7b0",
   "metadata": {},
   "outputs": [
    {
     "name": "stdout",
     "output_type": "stream",
     "text": [
      "* \n",
      "**** \n",
      "*   *\n",
      "*   *\n",
      "*   *\n"
     ]
    }
   ],
   "source": [
    "# program to printing \"n\"\n",
    "a=1\n",
    "while a<=5:\n",
    "    if a==1:\n",
    "        print(\"* \")\n",
    "    if a==2:\n",
    "        print(\"**** \")\n",
    "    if a==3:\n",
    "        print(\"*   *\")\n",
    "    if a==4:\n",
    "        print(\"*   *\")\n",
    "    if a==5:\n",
    "        print(\"*   *\")\n",
    "    a=a+1"
   ]
  },
  {
   "cell_type": "code",
   "execution_count": 42,
   "id": "aee3ebc2",
   "metadata": {},
   "outputs": [
    {
     "name": "stdout",
     "output_type": "stream",
     "text": [
      " ****\n",
      "*    *\n",
      "*    *\n",
      "*    *\n",
      " ****\n"
     ]
    }
   ],
   "source": [
    "# program to printing \"o\"\n",
    "a=1\n",
    "while a<=5:\n",
    "    if a==1:\n",
    "        print(\" ****\")\n",
    "    if a==2:\n",
    "        print(\"*    *\")\n",
    "    if a==3:\n",
    "        print(\"*    *\")\n",
    "    if a==4:\n",
    "        print(\"*    *\")\n",
    "    if a==5:\n",
    "        print(\" ****\")\n",
    "    a=a+1"
   ]
  },
  {
   "cell_type": "code",
   "execution_count": 43,
   "id": "b7a6e758",
   "metadata": {},
   "outputs": [
    {
     "name": "stdout",
     "output_type": "stream",
     "text": [
      "**** \n",
      "*   *\n",
      "****\n",
      "*    \n",
      "*\n"
     ]
    }
   ],
   "source": [
    "# program to printing \"p\"\n",
    "a=1\n",
    "while a<=5:\n",
    "    if a==1:\n",
    "        print(\"**** \")\n",
    "    if a==2:\n",
    "        print(\"*   *\")\n",
    "    if a==3:\n",
    "        print(\"****\")\n",
    "    if a==4:\n",
    "        print(\"*    \")\n",
    "    if a==5:\n",
    "        print(\"*\")\n",
    "    a=a+1"
   ]
  },
  {
   "cell_type": "code",
   "execution_count": 45,
   "id": "715a0c40",
   "metadata": {},
   "outputs": [
    {
     "name": "stdout",
     "output_type": "stream",
     "text": [
      " ****\n",
      "*   *\n",
      " ****\n",
      "    *\n",
      "    *\n"
     ]
    }
   ],
   "source": [
    "# program to printing \"q\"\n",
    "a=1\n",
    "while a<=5:\n",
    "    if a==1:\n",
    "        print(\" ****\")\n",
    "    if a==2:\n",
    "        print(\"*   *\")\n",
    "    if a==3:\n",
    "        print(\" ****\")\n",
    "    if a==4:\n",
    "        print(\"    *\")\n",
    "    if a==5:\n",
    "        print(\"    *\")\n",
    "    a=a+1"
   ]
  },
  {
   "cell_type": "code",
   "execution_count": 46,
   "id": "6fd29bdc",
   "metadata": {},
   "outputs": [
    {
     "name": "stdout",
     "output_type": "stream",
     "text": [
      "*  ** \n",
      "**   *\n",
      "*    \n",
      "*    \n",
      "*    \n"
     ]
    }
   ],
   "source": [
    "# program to printing \"r\"\n",
    "a=1\n",
    "while a<=5:\n",
    "    if a==1:\n",
    "        print(\"*  ** \")\n",
    "    if a==2:\n",
    "        print(\"**   *\")\n",
    "    if a==3:\n",
    "        print(\"*    \")\n",
    "    if a==4:\n",
    "        print(\"*    \")\n",
    "    if a==5:\n",
    "        print(\"*    \")\n",
    "    a=a+1"
   ]
  },
  {
   "cell_type": "code",
   "execution_count": 48,
   "id": "1a1e50aa",
   "metadata": {},
   "outputs": [
    {
     "name": "stdout",
     "output_type": "stream",
     "text": [
      " ****\n",
      "*    \n",
      " ***\n",
      "    *\n",
      "****\n"
     ]
    }
   ],
   "source": [
    "# program to printing \"s\"\n",
    "a=1\n",
    "while a<=5:\n",
    "    if a==1:\n",
    "        print(\" ****\")\n",
    "    if a==2:\n",
    "        print(\"*    \")\n",
    "    if a==3:\n",
    "        print(\" ***\")\n",
    "    if a==4:\n",
    "        print(\"    *\")\n",
    "    if a==5:\n",
    "        print(\"****\")\n",
    "    a=a+1"
   ]
  },
  {
   "cell_type": "code",
   "execution_count": 50,
   "id": "a02ae69c",
   "metadata": {},
   "outputs": [
    {
     "name": "stdout",
     "output_type": "stream",
     "text": [
      "  *  \n",
      "*****\n",
      "  *  \n",
      "  *  \n",
      "   ***\n"
     ]
    }
   ],
   "source": [
    "# program to printing \"t\"\n",
    "a=1\n",
    "while a<=5:\n",
    "    if a==1:\n",
    "        print(\"  *  \")\n",
    "    if a==2:\n",
    "        print(\"*****\")\n",
    "    if a==3:\n",
    "        print(\"  *  \")\n",
    "    if a==4:\n",
    "        print(\"  *  \")\n",
    "    if a==5:\n",
    "        print(\"   ***\")\n",
    "    a=a+1"
   ]
  },
  {
   "cell_type": "code",
   "execution_count": 51,
   "id": "a4b33aae",
   "metadata": {},
   "outputs": [
    {
     "name": "stdout",
     "output_type": "stream",
     "text": [
      "*   *\n",
      "*   *\n",
      "*   *\n",
      "*   *\n",
      " ***  **\n"
     ]
    }
   ],
   "source": [
    "# program to printing \"u\"\n",
    "a=1\n",
    "while a<=5:\n",
    "    if a==1:\n",
    "        print(\"*   *\")\n",
    "    if a==2:\n",
    "        print(\"*   *\")\n",
    "    if a==3:\n",
    "        print(\"*   *\")\n",
    "    if a==4:\n",
    "        print(\"*   *\")\n",
    "    if a==5:\n",
    "        print(\" ***  **\")\n",
    "    a=a+1"
   ]
  },
  {
   "cell_type": "code",
   "execution_count": 54,
   "id": "e1f590ab",
   "metadata": {},
   "outputs": [
    {
     "name": "stdout",
     "output_type": "stream",
     "text": [
      "*     *\n",
      "*     * \n",
      " *   * \n",
      "  * * \n",
      "   *\n"
     ]
    }
   ],
   "source": [
    "# program to printing \"v\"\n",
    "a=1\n",
    "while a<=5:\n",
    "    if a==1:\n",
    "        print(\"*     *\")\n",
    "    if a==2:\n",
    "        print(\"*     * \")\n",
    "    if a==3:\n",
    "        print(\" *   * \")\n",
    "    if a==4:\n",
    "        print(\"  * * \")\n",
    "    if a==5:\n",
    "        print(\"   *\")\n",
    "    a=a+1"
   ]
  },
  {
   "cell_type": "code",
   "execution_count": 57,
   "id": "6e3485d5",
   "metadata": {},
   "outputs": [
    {
     "name": "stdout",
     "output_type": "stream",
     "text": [
      "*     *\n",
      "*     *\n",
      "*  *  *\n",
      "* * * *\n",
      "**   **\n"
     ]
    }
   ],
   "source": [
    "# program to printing \"w\"\n",
    "a=1\n",
    "while a<=5:\n",
    "    if a==1:\n",
    "        print(\"*     *\")\n",
    "    if a==2:\n",
    "        print(\"*     *\")\n",
    "    if a==3:\n",
    "        print(\"*  *  *\")\n",
    "    if a==4:\n",
    "        print(\"* * * *\")\n",
    "    if a==5:\n",
    "        print(\"**   **\")\n",
    "    a=a+1"
   ]
  },
  {
   "cell_type": "code",
   "execution_count": 59,
   "id": "e5a8666e",
   "metadata": {},
   "outputs": [
    {
     "name": "stdout",
     "output_type": "stream",
     "text": [
      "***   ***\n",
      "   * * \n",
      "    *  \n",
      "   * * \n",
      "***   ***\n"
     ]
    }
   ],
   "source": [
    "# program to printing \"x\"\n",
    "a=1\n",
    "while a<=5:\n",
    "    if a==1:\n",
    "        print(\"***   ***\")\n",
    "    if a==2:\n",
    "        print(\"   * * \")\n",
    "    if a==3:\n",
    "        print(\"    *  \")\n",
    "    if a==4:\n",
    "        print(\"   * * \")\n",
    "    if a==5:\n",
    "        print(\"***   ***\")\n",
    "    a=a+1"
   ]
  },
  {
   "cell_type": "code",
   "execution_count": 61,
   "id": "924fe55c",
   "metadata": {},
   "outputs": [
    {
     "name": "stdout",
     "output_type": "stream",
     "text": [
      "**   *\n",
      "  * * \n",
      "   *\n",
      "   *\n",
      " **\n"
     ]
    }
   ],
   "source": [
    "# program to printing \"y\"\n",
    "a=1\n",
    "while a<=5:\n",
    "    if a==1:\n",
    "        print(\"**   *\")\n",
    "    if a==2:\n",
    "        print(\"  * * \")\n",
    "    if a==3:\n",
    "        print(\"   *\")\n",
    "    if a==4:\n",
    "        print(\"   *\")\n",
    "    if a==5:\n",
    "        print(\" **\")\n",
    "    a=a+1"
   ]
  },
  {
   "cell_type": "code",
   "execution_count": 63,
   "id": "a69b2941",
   "metadata": {},
   "outputs": [
    {
     "name": "stdout",
     "output_type": "stream",
     "text": [
      "*****\n",
      "   * \n",
      "  *  \n",
      " *   \n",
      "*****\n"
     ]
    }
   ],
   "source": [
    "# program to printing \"z\"\n",
    "a=1\n",
    "while a<=5:\n",
    "    if a==1:\n",
    "        print(\"*****\")\n",
    "    if a==2:\n",
    "        print(\"   * \")\n",
    "    if a==3:\n",
    "        print(\"  *  \")\n",
    "    if a==4:\n",
    "        print(\" *   \")\n",
    "    if a==5:\n",
    "        print(\"*****\")\n",
    "    a=a+1"
   ]
  },
  {
   "cell_type": "code",
   "execution_count": null,
   "id": "5429162f",
   "metadata": {},
   "outputs": [],
   "source": []
  }
 ],
 "metadata": {
  "kernelspec": {
   "display_name": "Python 3 (ipykernel)",
   "language": "python",
   "name": "python3"
  },
  "language_info": {
   "codemirror_mode": {
    "name": "ipython",
    "version": 3
   },
   "file_extension": ".py",
   "mimetype": "text/x-python",
   "name": "python",
   "nbconvert_exporter": "python",
   "pygments_lexer": "ipython3",
   "version": "3.9.13"
  }
 },
 "nbformat": 4,
 "nbformat_minor": 5
}
